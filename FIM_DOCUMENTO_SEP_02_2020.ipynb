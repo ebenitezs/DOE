{
  "nbformat": 4,
  "nbformat_minor": 0,
  "metadata": {
    "kernelspec": {
      "display_name": "Python 3",
      "language": "python",
      "name": "python3"
    },
    "language_info": {
      "codemirror_mode": {
        "name": "ipython",
        "version": 3
      },
      "file_extension": ".py",
      "mimetype": "text/x-python",
      "name": "python",
      "nbconvert_exporter": "python",
      "pygments_lexer": "ipython3",
      "version": "3.7.6"
    },
    "colab": {
      "name": "FIM-DOCUMENTO SEP 02 2020.ipynb",
      "provenance": [],
      "collapsed_sections": [],
      "include_colab_link": true
    }
  },
  "cells": [
    {
      "cell_type": "markdown",
      "metadata": {
        "id": "view-in-github",
        "colab_type": "text"
      },
      "source": [
        "<a href=\"https://colab.research.google.com/github/ebenitezs/DOE/blob/master/FIM_DOCUMENTO_SEP_02_2020.ipynb\" target=\"_parent\"><img src=\"https://colab.research.google.com/assets/colab-badge.svg\" alt=\"Open In Colab\"/></a>"
      ]
    },
    {
      "cell_type": "code",
      "metadata": {
        "id": "WKaDcbYizEUF",
        "colab_type": "code",
        "colab": {}
      },
      "source": [
        "from sympy import *\n",
        "import sympy as sp\n",
        "import math\n",
        "from sympy import Matrix\n",
        "init_printing(use_latex='mathjax')\n",
        "al = symbols('alpha', real=\"TRUE\")\n",
        "da=sp.Function('da')\n",
        "db=sp.Function('db')\n",
        "y_0, t, I, D, a, b, x, det = symbols('y_0,t,I,D,a,b,x,det')"
      ],
      "execution_count": null,
      "outputs": []
    },
    {
      "cell_type": "markdown",
      "metadata": {
        "id": "6PGRDwmdy08I",
        "colab_type": "text"
      },
      "source": [
        "OBJETIVO\n",
        "\n",
        "El objetivo es obtener el diseño óptimo para f(y), es decir, cuántos y cuáles son los puntos que logran reducir las varianzas de los parámetros estimados al tiempo que la de los valores predichos.\n",
        "\n",
        "PROCEDIMIENTO\n",
        "\n",
        "Para tal fin debemos obtener la matriz de información (X'X), la matriz X se obtienes de derivar f(y) respecto a los parámetros de la función para este caso \"alfa\" y \"y_0\". Con esta matriz se estima la matriz de información para un diseño preliminar de para dos puntos [a,b], los cuales tienen funcion de probabilidad asociada de 0.5 para cada punto. A partir de esta matriz de información para dos puntos se obtiene el determinante para el cual se buscará por criterio D-óptimo los puntos donde se máximiza su respuesta. Para encontrar este máximo se consideran valores nominales para los parámetros \"alfa\" y \"y_0\". De este ejercicio se confirma que para estos parámetros nominales los puntos que maximizan el determinante son máximos en los límites de la región de operación. Para confirmar que esto sucede para cualquier punto de x, se evalua si el Teorema General de Equivalencia (TGE) m-[fT(t)*M-1(chi)f(t)] es mayor o igual cero. Para lo que se confirmará a través de análisis gráfico. A continuación se presenta paso a paso los cálculos necesarios para el cumplimiento del objetivo."
      ]
    },
    {
      "cell_type": "markdown",
      "metadata": {
        "id": "daTHV2rky08J",
        "colab_type": "text"
      },
      "source": [
        "Paso 1: definimos la función explícita."
      ]
    },
    {
      "cell_type": "code",
      "metadata": {
        "id": "JRxsFoO1y08J",
        "colab_type": "code",
        "colab": {
          "base_uri": "https://localhost:8080/",
          "height": 38
        },
        "outputId": "185f1363-5a84-45a2-abc8-81dc8626d671"
      },
      "source": [
        "y=E**((al*t)+log(y_0))\n",
        "y"
      ],
      "execution_count": null,
      "outputs": [
        {
          "output_type": "execute_result",
          "data": {
            "text/latex": "$$y_{0} e^{\\alpha t}$$",
            "text/plain": [
              "    α⋅t\n",
              "y₀⋅ℯ   "
            ]
          },
          "metadata": {
            "tags": []
          },
          "execution_count": 4
        }
      ]
    },
    {
      "cell_type": "markdown",
      "metadata": {
        "id": "3P9b59pjy08O",
        "colab_type": "text"
      },
      "source": [
        "Paso 2: derivar f(y) en función de alfa"
      ]
    },
    {
      "cell_type": "code",
      "metadata": {
        "id": "lVZlhaTDy08P",
        "colab_type": "code",
        "colab": {
          "base_uri": "https://localhost:8080/",
          "height": 38
        },
        "outputId": "f838cf2e-454b-44de-884f-150e86e40714"
      },
      "source": [
        "d1=diff(y,al)\n",
        "d1"
      ],
      "execution_count": null,
      "outputs": [
        {
          "output_type": "execute_result",
          "data": {
            "text/latex": "$$t y_{0} e^{\\alpha t}$$",
            "text/plain": [
              "      α⋅t\n",
              "t⋅y₀⋅ℯ   "
            ]
          },
          "metadata": {
            "tags": []
          },
          "execution_count": 6
        }
      ]
    },
    {
      "cell_type": "markdown",
      "metadata": {
        "id": "YQGMnYNUy08T",
        "colab_type": "text"
      },
      "source": [
        "Paso 3: derivar f(y) en funcion de y_0"
      ]
    },
    {
      "cell_type": "code",
      "metadata": {
        "id": "PMik_kBty08U",
        "colab_type": "code",
        "colab": {
          "base_uri": "https://localhost:8080/",
          "height": 38
        },
        "outputId": "71814606-76ce-479b-ac4c-39b432507983"
      },
      "source": [
        "d2=diff(y,y_0) #derivada respecto a y_0\n",
        "d2"
      ],
      "execution_count": null,
      "outputs": [
        {
          "output_type": "execute_result",
          "data": {
            "text/latex": "$$e^{\\alpha t}$$",
            "text/plain": [
              " α⋅t\n",
              "ℯ   "
            ]
          },
          "metadata": {
            "tags": []
          },
          "execution_count": 7
        }
      ]
    },
    {
      "cell_type": "markdown",
      "metadata": {
        "id": "dsPr-7GQy08X",
        "colab_type": "text"
      },
      "source": [
        "Paso 4: definir la matriz X (A) y X' (B) a partir de las derivadas parciales"
      ]
    },
    {
      "cell_type": "code",
      "metadata": {
        "id": "Xb5JtoE_y08Y",
        "colab_type": "code",
        "colab": {
          "base_uri": "https://localhost:8080/",
          "height": 58
        },
        "outputId": "cbbea9cb-49db-46b2-8384-714b0ac9ba62"
      },
      "source": [
        "A = Matrix([[d1],[d2]])\n",
        "A"
      ],
      "execution_count": null,
      "outputs": [
        {
          "output_type": "execute_result",
          "data": {
            "text/latex": "$$\\left[\\begin{matrix}t y_{0} e^{\\alpha t}\\\\e^{\\alpha t}\\end{matrix}\\right]$$",
            "text/plain": [
              "⎡      α⋅t⎤\n",
              "⎢t⋅y₀⋅ℯ   ⎥\n",
              "⎢         ⎥\n",
              "⎢   α⋅t   ⎥\n",
              "⎣  ℯ      ⎦"
            ]
          },
          "metadata": {
            "tags": []
          },
          "execution_count": 8
        }
      ]
    },
    {
      "cell_type": "code",
      "metadata": {
        "id": "VX8tLpI_y08c",
        "colab_type": "code",
        "colab": {
          "base_uri": "https://localhost:8080/",
          "height": 38
        },
        "outputId": "b4c83855-87e8-4d32-ba5b-a0f2f73e55e1"
      },
      "source": [
        "B = Matrix([[d1,d2]])\n",
        "B"
      ],
      "execution_count": null,
      "outputs": [
        {
          "output_type": "execute_result",
          "data": {
            "text/latex": "$$\\left[\\begin{matrix}t y_{0} e^{\\alpha t} & e^{\\alpha t}\\end{matrix}\\right]$$",
            "text/plain": [
              "⎡      α⋅t   α⋅t⎤\n",
              "⎣t⋅y₀⋅ℯ     ℯ   ⎦"
            ]
          },
          "metadata": {
            "tags": []
          },
          "execution_count": 9
        }
      ]
    },
    {
      "cell_type": "markdown",
      "metadata": {
        "id": "-iUIn-2xy08h",
        "colab_type": "text"
      },
      "source": [
        "Paso 5: obtener la matrix X'X"
      ]
    },
    {
      "cell_type": "code",
      "metadata": {
        "id": "kCJhONrky08h",
        "colab_type": "code",
        "colab": {
          "base_uri": "https://localhost:8080/",
          "height": 58
        },
        "outputId": "76a839d7-2bbe-4b66-bf4f-c514a9479242"
      },
      "source": [
        "I=A*B\n",
        "I"
      ],
      "execution_count": null,
      "outputs": [
        {
          "output_type": "execute_result",
          "data": {
            "text/latex": "$$\\left[\\begin{matrix}t^{2} y_{0}^{2} e^{2 \\alpha t} & t y_{0} e^{2 \\alpha t}\\\\t y_{0} e^{2 \\alpha t} & e^{2 \\alpha t}\\end{matrix}\\right]$$",
            "text/plain": [
              "⎡ 2   2  2⋅α⋅t        2⋅α⋅t⎤\n",
              "⎢t ⋅y₀ ⋅ℯ       t⋅y₀⋅ℯ     ⎥\n",
              "⎢                          ⎥\n",
              "⎢       2⋅α⋅t      2⋅α⋅t   ⎥\n",
              "⎣ t⋅y₀⋅ℯ          ℯ        ⎦"
            ]
          },
          "metadata": {
            "tags": []
          },
          "execution_count": 10
        }
      ]
    },
    {
      "cell_type": "markdown",
      "metadata": {
        "id": "fSqlMSYOy08m",
        "colab_type": "text"
      },
      "source": [
        "Paso 6: obtener la matriz del diseño para los puntos a y b. Se consigue substituyendo la variable simbólica alfa y y_0 por las matrices de dichos puntos, y su correspondiente multiplicación matricial."
      ]
    },
    {
      "cell_type": "code",
      "metadata": {
        "id": "ALEA1EOay08m",
        "colab_type": "code",
        "colab": {
          "base_uri": "https://localhost:8080/",
          "height": 58
        },
        "outputId": "c05878a8-8c8d-421a-bb25-e51e8815db80"
      },
      "source": [
        "pa = I.subs({t: \"a\"})   # Matriz de información para el punto a\n",
        "pa"
      ],
      "execution_count": null,
      "outputs": [
        {
          "output_type": "execute_result",
          "data": {
            "text/latex": "$$\\left[\\begin{matrix}a^{2} y_{0}^{2} e^{2 a \\alpha} & a y_{0} e^{2 a \\alpha}\\\\a y_{0} e^{2 a \\alpha} & e^{2 a \\alpha}\\end{matrix}\\right]$$",
            "text/plain": [
              "⎡ 2   2  2⋅a⋅α        2⋅a⋅α⎤\n",
              "⎢a ⋅y₀ ⋅ℯ       a⋅y₀⋅ℯ     ⎥\n",
              "⎢                          ⎥\n",
              "⎢       2⋅a⋅α      2⋅a⋅α   ⎥\n",
              "⎣ a⋅y₀⋅ℯ          ℯ        ⎦"
            ]
          },
          "metadata": {
            "tags": []
          },
          "execution_count": 11
        }
      ]
    },
    {
      "cell_type": "code",
      "metadata": {
        "id": "9vLT16CDy08q",
        "colab_type": "code",
        "colab": {
          "base_uri": "https://localhost:8080/",
          "height": 58
        },
        "outputId": "0b3d39ae-df72-470a-9962-1d8a0d7891bf"
      },
      "source": [
        "pb = I.subs({t: \"b\"})   # Matriz de información para el punto b\n",
        "pb"
      ],
      "execution_count": null,
      "outputs": [
        {
          "output_type": "execute_result",
          "data": {
            "text/latex": "$$\\left[\\begin{matrix}b^{2} y_{0}^{2} e^{2 \\alpha b} & b y_{0} e^{2 \\alpha b}\\\\b y_{0} e^{2 \\alpha b} & e^{2 \\alpha b}\\end{matrix}\\right]$$",
            "text/plain": [
              "⎡ 2   2  2⋅α⋅b        2⋅α⋅b⎤\n",
              "⎢b ⋅y₀ ⋅ℯ       b⋅y₀⋅ℯ     ⎥\n",
              "⎢                          ⎥\n",
              "⎢       2⋅α⋅b      2⋅α⋅b   ⎥\n",
              "⎣ b⋅y₀⋅ℯ          ℯ        ⎦"
            ]
          },
          "metadata": {
            "tags": []
          },
          "execution_count": 12
        }
      ]
    },
    {
      "cell_type": "code",
      "metadata": {
        "id": "8btgQa07y08v",
        "colab_type": "code",
        "colab": {
          "base_uri": "https://localhost:8080/",
          "height": 58
        },
        "outputId": "e5b04adc-eaf1-475c-9859-397feec059ae"
      },
      "source": [
        "M=((1/2)*pa)+((1/2)*pb) # Matriz de diseño puntos a y b\n",
        "M"
      ],
      "execution_count": null,
      "outputs": [
        {
          "output_type": "execute_result",
          "data": {
            "text/latex": "$$\\left[\\begin{matrix}0.5 a^{2} y_{0}^{2} e^{2 a \\alpha} + 0.5 b^{2} y_{0}^{2} e^{2 \\alpha b} & 0.5 a y_{0} e^{2 a \\alpha} + 0.5 b y_{0} e^{2 \\alpha b}\\\\0.5 a y_{0} e^{2 a \\alpha} + 0.5 b y_{0} e^{2 \\alpha b} & 0.5 e^{2 a \\alpha} + 0.5 e^{2 \\alpha b}\\end{matrix}\\right]$$",
            "text/plain": [
              "⎡     2   2  2⋅a⋅α        2   2  2⋅α⋅b            2⋅a⋅α             2⋅α⋅b⎤\n",
              "⎢0.5⋅a ⋅y₀ ⋅ℯ      + 0.5⋅b ⋅y₀ ⋅ℯ       0.5⋅a⋅y₀⋅ℯ      + 0.5⋅b⋅y₀⋅ℯ     ⎥\n",
              "⎢                                                                        ⎥\n",
              "⎢            2⋅a⋅α             2⋅α⋅b              2⋅a⋅α        2⋅α⋅b     ⎥\n",
              "⎣  0.5⋅a⋅y₀⋅ℯ      + 0.5⋅b⋅y₀⋅ℯ              0.5⋅ℯ      + 0.5⋅ℯ          ⎦"
            ]
          },
          "metadata": {
            "tags": []
          },
          "execution_count": 13
        }
      ]
    },
    {
      "cell_type": "markdown",
      "metadata": {
        "id": "f_wt_woXy08z",
        "colab_type": "text"
      },
      "source": [
        "Paso 7. Obtener el determinante de la matriz del diseño."
      ]
    },
    {
      "cell_type": "code",
      "metadata": {
        "scrolled": true,
        "id": "wswPq_a6y080",
        "colab_type": "code",
        "colab": {
          "base_uri": "https://localhost:8080/",
          "height": 42
        },
        "outputId": "93ec0f37-bf88-4e45-bf86-a7c993c57d1b"
      },
      "source": [
        "D=M.det()\n",
        "D"
      ],
      "execution_count": null,
      "outputs": [
        {
          "output_type": "execute_result",
          "data": {
            "text/latex": "$$- \\left(0.5 a y_{0} e^{2 a \\alpha} + 0.5 b y_{0} e^{2 \\alpha b}\\right)^{2} + \\left(0.5 a^{2} y_{0}^{2} e^{2 a \\alpha} + 0.5 b^{2} y_{0}^{2} e^{2 \\alpha b}\\right) \\left(0.5 e^{2 a \\alpha} + 0.5 e^{2 \\alpha b}\\right)$$",
            "text/plain": [
              "                                     2                                        \n",
              "  ⎛          2⋅a⋅α             2⋅α⋅b⎞    ⎛     2   2  2⋅a⋅α        2   2  2⋅α⋅\n",
              "- ⎝0.5⋅a⋅y₀⋅ℯ      + 0.5⋅b⋅y₀⋅ℯ     ⎠  + ⎝0.5⋅a ⋅y₀ ⋅ℯ      + 0.5⋅b ⋅y₀ ⋅ℯ    \n",
              "\n",
              "                            \n",
              "b⎞ ⎛     2⋅a⋅α        2⋅α⋅b⎞\n",
              " ⎠⋅⎝0.5⋅ℯ      + 0.5⋅ℯ     ⎠"
            ]
          },
          "metadata": {
            "tags": []
          },
          "execution_count": 14
        }
      ]
    },
    {
      "cell_type": "markdown",
      "metadata": {
        "id": "ylWo_B_Hy083",
        "colab_type": "text"
      },
      "source": [
        "Paso 8. A esta función del determinante se le identifican los valores máximos, reemplazando los parámetros de la función del determinante por valores nominales, en este caso para alfa=0 y para y:0=1, no obstante, al ser un funcion semidefinida positiva, derivar e igualar a cero nos dará no el valor máximo pero si el mínimo. De lo cual se infiere que los valores máximos de la función se logran en los puntos extremos definidos en la región de operación [0,1]."
      ]
    },
    {
      "cell_type": "code",
      "metadata": {
        "scrolled": true,
        "id": "8jfUWtDCy084",
        "colab_type": "code",
        "colab": {
          "base_uri": "https://localhost:8080/",
          "height": 38
        },
        "outputId": "dbfc5a96-db25-48bf-9cc7-8ce398fa7550"
      },
      "source": [
        "xf= D.subs({al:0,y_0:1}) #Reemplazar los valores de los parámetros por valores nominales alfa=0 y y_0=1\n",
        "simplify(xf)"
      ],
      "execution_count": null,
      "outputs": [
        {
          "output_type": "execute_result",
          "data": {
            "text/latex": "$$0.25 a^{2} - 0.5 a b + 0.25 b^{2}$$",
            "text/plain": [
              "      2                   2\n",
              "0.25⋅a  - 0.5⋅a⋅b + 0.25⋅b "
            ]
          },
          "metadata": {
            "tags": []
          },
          "execution_count": 15
        }
      ]
    },
    {
      "cell_type": "code",
      "metadata": {
        "id": "EvT3WnHXy087",
        "colab_type": "code",
        "colab": {
          "base_uri": "https://localhost:8080/",
          "height": 162
        },
        "outputId": "35f43eb0-edc6-42db-a9a0-993c9dfe144f"
      },
      "source": [
        "p1=plot3d(xf,(a,0,1),(b,0,1)) #Determinante en función de puntos a y b"
      ],
      "execution_count": null,
      "outputs": [
        {
          "output_type": "error",
          "ename": "NameError",
          "evalue": "ignored",
          "traceback": [
            "\u001b[0;31m---------------------------------------------------------------------------\u001b[0m",
            "\u001b[0;31mNameError\u001b[0m                                 Traceback (most recent call last)",
            "\u001b[0;32m<ipython-input-18-234b966582f4>\u001b[0m in \u001b[0;36m<module>\u001b[0;34m()\u001b[0m\n\u001b[0;32m----> 1\u001b[0;31m \u001b[0mp1\u001b[0m\u001b[0;34m=\u001b[0m\u001b[0mplot3d\u001b[0m\u001b[0;34m(\u001b[0m\u001b[0mxf\u001b[0m\u001b[0;34m,\u001b[0m\u001b[0;34m(\u001b[0m\u001b[0ma\u001b[0m\u001b[0;34m,\u001b[0m\u001b[0;36m0\u001b[0m\u001b[0;34m,\u001b[0m\u001b[0;36m1\u001b[0m\u001b[0;34m)\u001b[0m\u001b[0;34m,\u001b[0m\u001b[0;34m(\u001b[0m\u001b[0mb\u001b[0m\u001b[0;34m,\u001b[0m\u001b[0;36m0\u001b[0m\u001b[0;34m,\u001b[0m\u001b[0;36m1\u001b[0m\u001b[0;34m)\u001b[0m\u001b[0;34m)\u001b[0m \u001b[0;31m#Determinante en función de puntos a y b\u001b[0m\u001b[0;34m\u001b[0m\u001b[0;34m\u001b[0m\u001b[0m\n\u001b[0m",
            "\u001b[0;31mNameError\u001b[0m: name 'plot3d' is not defined"
          ]
        }
      ]
    },
    {
      "cell_type": "code",
      "metadata": {
        "id": "tiGRPOdEy08-",
        "colab_type": "code",
        "colab": {
          "base_uri": "https://localhost:8080/",
          "height": 38
        },
        "outputId": "52c9bb72-0408-434a-bfa4-9398fcfec243"
      },
      "source": [
        "dap=diff(xf,a) #Diferenciar el determinante respecto al punto a, e igualarlo a cero\n",
        "dap\n",
        "da = Eq(dap)\n",
        "da"
      ],
      "execution_count": null,
      "outputs": [
        {
          "output_type": "execute_result",
          "data": {
            "text/latex": "$$0.5 a - 0.5 b = 0$$",
            "text/plain": [
              "0.5⋅a - 0.5⋅b = 0"
            ]
          },
          "metadata": {
            "tags": []
          },
          "execution_count": 19
        }
      ]
    },
    {
      "cell_type": "code",
      "metadata": {
        "id": "xLpzugs6y09B",
        "colab_type": "code",
        "colab": {
          "base_uri": "https://localhost:8080/",
          "height": 38
        },
        "outputId": "35524096-e485-4b94-849e-2c2242c145c6"
      },
      "source": [
        "dbp=diff(xf,b) #Diferenciar el determinante respecto al punto b, e igualarlo a cero\n",
        "db = Eq(dbp)\n",
        "db"
      ],
      "execution_count": null,
      "outputs": [
        {
          "output_type": "execute_result",
          "data": {
            "text/latex": "$$- 0.5 a + 0.5 b = 0$$",
            "text/plain": [
              "-0.5⋅a + 0.5⋅b = 0"
            ]
          },
          "metadata": {
            "tags": []
          },
          "execution_count": 20
        }
      ]
    },
    {
      "cell_type": "code",
      "metadata": {
        "id": "ZAY3lWTty09E",
        "colab_type": "code",
        "colab": {
          "base_uri": "https://localhost:8080/",
          "height": 38
        },
        "outputId": "88c8ef8d-0428-44fc-8088-567f4724bb63"
      },
      "source": [
        "sa=Eq(simplify(dap))\n",
        "sa"
      ],
      "execution_count": null,
      "outputs": [
        {
          "output_type": "execute_result",
          "data": {
            "text/latex": "$$0.5 a - 0.5 b = 0$$",
            "text/plain": [
              "0.5⋅a - 0.5⋅b = 0"
            ]
          },
          "metadata": {
            "tags": []
          },
          "execution_count": 21
        }
      ]
    },
    {
      "cell_type": "code",
      "metadata": {
        "scrolled": true,
        "id": "jqGYlcVmy09H",
        "colab_type": "code",
        "colab": {
          "base_uri": "https://localhost:8080/",
          "height": 38
        },
        "outputId": "f110e92e-ea40-434f-f0c1-497298b2bae8"
      },
      "source": [
        "sb=Eq(simplify(dbp))\n",
        "sb"
      ],
      "execution_count": null,
      "outputs": [
        {
          "output_type": "execute_result",
          "data": {
            "text/latex": "$$- 0.5 a + 0.5 b = 0$$",
            "text/plain": [
              "-0.5⋅a + 0.5⋅b = 0"
            ]
          },
          "metadata": {
            "tags": []
          },
          "execution_count": 22
        }
      ]
    },
    {
      "cell_type": "code",
      "metadata": {
        "id": "56TRXXs4y09K",
        "colab_type": "code",
        "colab": {
          "base_uri": "https://localhost:8080/",
          "height": 38
        },
        "outputId": "8daf0e9e-9d56-44a4-dad7-447f107fdb9e"
      },
      "source": [
        "solve([sa,sb],[a,b]) #Resolver el sistema de ecuaciones que identifique donde se logra minimizar al mismo tiempo para a y b. En este caso esto se consigue cuando a=b"
      ],
      "execution_count": null,
      "outputs": [
        {
          "output_type": "execute_result",
          "data": {
            "text/latex": "$$\\left \\{ a : b\\right \\}$$",
            "text/plain": [
              "{a: b}"
            ]
          },
          "metadata": {
            "tags": []
          },
          "execution_count": 23
        }
      ]
    },
    {
      "cell_type": "markdown",
      "metadata": {
        "id": "aJEZUckry09O",
        "colab_type": "text"
      },
      "source": [
        "Paso 9. Ya confirmado de manera analítica y gráfica que para los puntos extremos se obtiene la maximización de la función determinante, se procede a evaluar el TGE que indica que para todo valor de t la función GET es mayor o igual a cero."
      ]
    },
    {
      "cell_type": "code",
      "metadata": {
        "id": "EBCQDbJOy09O",
        "colab_type": "code",
        "colab": {
          "base_uri": "https://localhost:8080/",
          "height": 58
        },
        "outputId": "f6bb4fbc-a1f7-494f-9ee2-16070cf60c62"
      },
      "source": [
        "Me= M.subs({al:0,y_0:1,a:1,b:0}) #Se obtienen la matriz de información para los puntos a y b y para los valores nominales de los parámetros alfa y y_0\n",
        "Me"
      ],
      "execution_count": null,
      "outputs": [
        {
          "output_type": "execute_result",
          "data": {
            "text/latex": "$$\\left[\\begin{matrix}0.5 & 0.5\\\\0.5 & 1.0\\end{matrix}\\right]$$",
            "text/plain": [
              "⎡0.5  0.5⎤\n",
              "⎢        ⎥\n",
              "⎣0.5  1.0⎦"
            ]
          },
          "metadata": {
            "tags": []
          },
          "execution_count": 24
        }
      ]
    },
    {
      "cell_type": "code",
      "metadata": {
        "id": "ZiyERBzmy09R",
        "colab_type": "code",
        "colab": {
          "base_uri": "https://localhost:8080/",
          "height": 58
        },
        "outputId": "7df9d8f2-6c16-40a6-f8f0-d29350af6753"
      },
      "source": [
        "IM=Me.inv() #Se invierte la matriz de información del diseño definidio en el punto anterior.\n",
        "IM"
      ],
      "execution_count": null,
      "outputs": [
        {
          "output_type": "execute_result",
          "data": {
            "text/latex": "$$\\left[\\begin{matrix}4.0 & -2.0\\\\-2.0 & 2.0\\end{matrix}\\right]$$",
            "text/plain": [
              "⎡4.0   -2.0⎤\n",
              "⎢          ⎥\n",
              "⎣-2.0  2.0 ⎦"
            ]
          },
          "metadata": {
            "tags": []
          },
          "execution_count": 25
        }
      ]
    },
    {
      "cell_type": "code",
      "metadata": {
        "id": "-R9ASb4oy09U",
        "colab_type": "code",
        "colab": {
          "base_uri": "https://localhost:8080/",
          "height": 58
        },
        "outputId": "6c8e2128-41bd-4eba-f1ee-a27b99600529"
      },
      "source": [
        "As= A.subs({al:0,y_0:1}) #Se estima la matriz de información para los puntos a y b y su respectiva transpuesta\n",
        "As"
      ],
      "execution_count": null,
      "outputs": [
        {
          "output_type": "execute_result",
          "data": {
            "text/latex": "$$\\left[\\begin{matrix}t\\\\1\\end{matrix}\\right]$$",
            "text/plain": [
              "⎡t⎤\n",
              "⎢ ⎥\n",
              "⎣1⎦"
            ]
          },
          "metadata": {
            "tags": []
          },
          "execution_count": 26
        }
      ]
    },
    {
      "cell_type": "code",
      "metadata": {
        "id": "GYx5Dzway09X",
        "colab_type": "code",
        "colab": {
          "base_uri": "https://localhost:8080/",
          "height": 38
        },
        "outputId": "86489cf0-3279-4210-f603-c9be2ee97cd9"
      },
      "source": [
        "Bs= B.subs({al:0,y_0:1}) #Transpuesta de X\n",
        "Bs"
      ],
      "execution_count": null,
      "outputs": [
        {
          "output_type": "execute_result",
          "data": {
            "text/latex": "$$\\left[\\begin{matrix}t & 1\\end{matrix}\\right]$$",
            "text/plain": [
              "[t  1]"
            ]
          },
          "metadata": {
            "tags": []
          },
          "execution_count": 27
        }
      ]
    },
    {
      "cell_type": "code",
      "metadata": {
        "id": "cO0bzlVLy09b",
        "colab_type": "code",
        "colab": {
          "base_uri": "https://localhost:8080/",
          "height": 38
        },
        "outputId": "12007b86-b1e0-45eb-ea72-b79e02325281"
      },
      "source": [
        "GETm=(Bs*IM*As) #Teorema general de equivalencia\n",
        "GETs=simplify(GETm)\n",
        "GETf=GETs[0,0]\n",
        "GETf"
      ],
      "execution_count": null,
      "outputs": [
        {
          "output_type": "execute_result",
          "data": {
            "text/latex": "$$4.0 t^{2} - 4.0 t + 2.0$$",
            "text/plain": [
              "     2              \n",
              "4.0⋅t  - 4.0⋅t + 2.0"
            ]
          },
          "metadata": {
            "tags": []
          },
          "execution_count": 28
        }
      ]
    },
    {
      "cell_type": "code",
      "metadata": {
        "id": "4AQADf7hy09f",
        "colab_type": "code",
        "colab": {
          "base_uri": "https://localhost:8080/",
          "height": 38
        },
        "outputId": "b8cbdc32-9c05-4e56-dc91-7f998e30d666"
      },
      "source": [
        "GET=2-GETf #TGE descontado el número de parámetros\n",
        "GET"
      ],
      "execution_count": null,
      "outputs": [
        {
          "output_type": "execute_result",
          "data": {
            "text/latex": "$$- 4.0 t^{2} + 4.0 t$$",
            "text/plain": [
              "       2        \n",
              "- 4.0⋅t  + 4.0⋅t"
            ]
          },
          "metadata": {
            "tags": []
          },
          "execution_count": 29
        }
      ]
    },
    {
      "cell_type": "code",
      "metadata": {
        "id": "cmXsJsjky09i",
        "colab_type": "code",
        "colab": {
          "base_uri": "https://localhost:8080/",
          "height": 388
        },
        "outputId": "8b42ce27-a8db-4a9e-889a-e700ceffc6a9"
      },
      "source": [
        "p2=plot(GET,(t,0,1),show=False) #Solución gráfica GET\n",
        "p2\n",
        "p2.show()"
      ],
      "execution_count": null,
      "outputs": [
        {
          "output_type": "stream",
          "text": [
            "/usr/local/lib/python3.6/dist-packages/sympy/plotting/plot.py:890: MatplotlibDeprecationWarning: \n",
            "The set_smart_bounds function was deprecated in Matplotlib 3.2 and will be removed two minor releases later.\n",
            "  self.ax.spines['left'].set_smart_bounds(True)\n",
            "/usr/local/lib/python3.6/dist-packages/sympy/plotting/plot.py:891: MatplotlibDeprecationWarning: \n",
            "The set_smart_bounds function was deprecated in Matplotlib 3.2 and will be removed two minor releases later.\n",
            "  self.ax.spines['bottom'].set_smart_bounds(False)\n"
          ],
          "name": "stderr"
        },
        {
          "output_type": "display_data",
          "data": {
            "image/png": "[encoded data removed]",
            "text/plain": [
              "<Figure size 432x288 with 1 Axes>"
            ]
          },
          "metadata": {
            "tags": [],
            "needs_background": "light"
          }
        }
      ]
    },
    {
      "cell_type": "code",
      "metadata": {
        "id": "254OfjPwzj2T",
        "colab_type": "code",
        "colab": {}
      },
      "source": [
        ""
      ],
      "execution_count": null,
      "outputs": []
    }
  ]
}